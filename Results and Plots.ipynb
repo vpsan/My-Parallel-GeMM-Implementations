{
 "cells": [
  {
   "cell_type": "code",
   "execution_count": 1,
   "id": "56ed33d3",
   "metadata": {},
   "outputs": [],
   "source": [
    "import pandas as pd\n",
    "import matplotlib.pyplot as plt\n",
    "import numpy as np"
   ]
  },
  {
   "cell_type": "code",
   "execution_count": 2,
   "id": "03f44fa9",
   "metadata": {},
   "outputs": [],
   "source": [
    "def substring_after_delim(s, delim):\n",
    "    return s.partition(delim)[2]\n",
    "\n",
    "def result_parser(path_to_file_result):\n",
    "    n_threads_lst = []\n",
    "    matrixsize_lst = []\n",
    "    compute_iters_lst = []\n",
    "    sec_iter_lst = []\n",
    "    GFLOPS_lst = []\n",
    "    result_lst = []\n",
    " \n",
    "    with open(path_to_file_result) as output:\n",
    "        for line in output:\n",
    "            s = substring_after_delim(line, ': ')\n",
    "            if 'OpenMP threads' in line:\n",
    "                n_threads_lst.append(s[:-1])\n",
    "            if 'Matrix size' in line:\n",
    "                matrixsize_lst.append(s[:-1])\n",
    "            if 'Compute iters' in line:\n",
    "                compute_iters_lst.append(s[:-1])\n",
    "            if 'Sec/iter' in line:\n",
    "                sec_iter_lst.append(s[:-1])\n",
    "            if 'GFLOPS' in line:\n",
    "                GFLOPS_lst.append(s[:-1])\n",
    "                \n",
    "    df = pd.DataFrame()\n",
    "    df['threads'] = pd.Series(n_threads_lst)\n",
    "    df['matrix_size'] = pd.Series(matrixsize_lst)\n",
    "    df['iters'] = pd.Series(compute_iters_lst)\n",
    "    df['sec_iter'] = pd.Series(sec_iter_lst)\n",
    "    df['GFLOPS'] = pd.Series(GFLOPS_lst)\n",
    "    \n",
    "    df['matrix_size'] = df['matrix_size'].replace(['(500x500)X(500x500)'],'500')\n",
    "    df['matrix_size'] = df['matrix_size'].replace(['(1000x1000)X(1000x1000)'],'1000')\n",
    "    df['matrix_size'] = df['matrix_size'].replace(['(1500x1500)X(1500x1500)'],'1500')\n",
    "    \n",
    "    df.threads = df.threads.astype(int)\n",
    "    df.matrix_size = df.matrix_size.astype(int)\n",
    "    df.iters = df.iters.astype(int)\n",
    "    df.sec_iter = df.sec_iter.astype(float)\n",
    "    df.GFLOPS = df.GFLOPS.astype(float)\n",
    "    \n",
    "    return df"
   ]
  },
  {
   "cell_type": "markdown",
   "id": "e727cec2",
   "metadata": {},
   "source": [
    "# Results on OpenMP_v1, OpenMP_v2, OpenBLAS"
   ]
  },
  {
   "cell_type": "code",
   "execution_count": 3,
   "id": "cc87894d",
   "metadata": {},
   "outputs": [],
   "source": [
    "df_OpenMP_v1 = result_parser('./OpenMP_v1/file_result')\n",
    "df_OpenMP_v2 = result_parser('./OpenMP_v2/file_result')\n",
    "df_OpenBLAS = result_parser('./OpenBLAS/file_result')"
   ]
  },
  {
   "cell_type": "code",
   "execution_count": 4,
   "id": "e9e46634",
   "metadata": {},
   "outputs": [
    {
     "data": {
      "text/html": [
       "<div>\n",
       "<style scoped>\n",
       "    .dataframe tbody tr th:only-of-type {\n",
       "        vertical-align: middle;\n",
       "    }\n",
       "\n",
       "    .dataframe tbody tr th {\n",
       "        vertical-align: top;\n",
       "    }\n",
       "\n",
       "    .dataframe thead th {\n",
       "        text-align: right;\n",
       "    }\n",
       "</style>\n",
       "<table border=\"1\" class=\"dataframe\">\n",
       "  <thead>\n",
       "    <tr style=\"text-align: right;\">\n",
       "      <th></th>\n",
       "      <th>threads</th>\n",
       "      <th>matrix_size</th>\n",
       "      <th>iters</th>\n",
       "      <th>sec_iter</th>\n",
       "      <th>GFLOPS</th>\n",
       "    </tr>\n",
       "  </thead>\n",
       "  <tbody>\n",
       "    <tr>\n",
       "      <th>0</th>\n",
       "      <td>1</td>\n",
       "      <td>500</td>\n",
       "      <td>10</td>\n",
       "      <td>0.151724</td>\n",
       "      <td>1.647730e+09</td>\n",
       "    </tr>\n",
       "    <tr>\n",
       "      <th>1</th>\n",
       "      <td>1</td>\n",
       "      <td>1000</td>\n",
       "      <td>10</td>\n",
       "      <td>1.258990</td>\n",
       "      <td>1.588570e+09</td>\n",
       "    </tr>\n",
       "    <tr>\n",
       "      <th>2</th>\n",
       "      <td>1</td>\n",
       "      <td>1500</td>\n",
       "      <td>10</td>\n",
       "      <td>7.515200</td>\n",
       "      <td>8.981800e+08</td>\n",
       "    </tr>\n",
       "    <tr>\n",
       "      <th>3</th>\n",
       "      <td>2</td>\n",
       "      <td>500</td>\n",
       "      <td>10</td>\n",
       "      <td>0.071416</td>\n",
       "      <td>3.500610e+09</td>\n",
       "    </tr>\n",
       "    <tr>\n",
       "      <th>4</th>\n",
       "      <td>2</td>\n",
       "      <td>1000</td>\n",
       "      <td>10</td>\n",
       "      <td>0.714578</td>\n",
       "      <td>2.798860e+09</td>\n",
       "    </tr>\n",
       "    <tr>\n",
       "      <th>5</th>\n",
       "      <td>2</td>\n",
       "      <td>1500</td>\n",
       "      <td>10</td>\n",
       "      <td>3.260510</td>\n",
       "      <td>2.070230e+09</td>\n",
       "    </tr>\n",
       "    <tr>\n",
       "      <th>6</th>\n",
       "      <td>4</td>\n",
       "      <td>500</td>\n",
       "      <td>10</td>\n",
       "      <td>0.034869</td>\n",
       "      <td>7.169760e+09</td>\n",
       "    </tr>\n",
       "    <tr>\n",
       "      <th>7</th>\n",
       "      <td>4</td>\n",
       "      <td>1000</td>\n",
       "      <td>10</td>\n",
       "      <td>0.302951</td>\n",
       "      <td>6.601730e+09</td>\n",
       "    </tr>\n",
       "    <tr>\n",
       "      <th>8</th>\n",
       "      <td>4</td>\n",
       "      <td>1500</td>\n",
       "      <td>10</td>\n",
       "      <td>1.460800</td>\n",
       "      <td>4.620760e+09</td>\n",
       "    </tr>\n",
       "    <tr>\n",
       "      <th>9</th>\n",
       "      <td>16</td>\n",
       "      <td>500</td>\n",
       "      <td>10</td>\n",
       "      <td>0.011308</td>\n",
       "      <td>2.210880e+10</td>\n",
       "    </tr>\n",
       "    <tr>\n",
       "      <th>10</th>\n",
       "      <td>16</td>\n",
       "      <td>1000</td>\n",
       "      <td>10</td>\n",
       "      <td>0.082343</td>\n",
       "      <td>2.428860e+10</td>\n",
       "    </tr>\n",
       "    <tr>\n",
       "      <th>11</th>\n",
       "      <td>16</td>\n",
       "      <td>1500</td>\n",
       "      <td>10</td>\n",
       "      <td>0.286162</td>\n",
       "      <td>2.358810e+10</td>\n",
       "    </tr>\n",
       "    <tr>\n",
       "      <th>12</th>\n",
       "      <td>24</td>\n",
       "      <td>500</td>\n",
       "      <td>10</td>\n",
       "      <td>0.008364</td>\n",
       "      <td>2.988970e+10</td>\n",
       "    </tr>\n",
       "    <tr>\n",
       "      <th>13</th>\n",
       "      <td>24</td>\n",
       "      <td>1000</td>\n",
       "      <td>10</td>\n",
       "      <td>0.061499</td>\n",
       "      <td>3.252080e+10</td>\n",
       "    </tr>\n",
       "    <tr>\n",
       "      <th>14</th>\n",
       "      <td>24</td>\n",
       "      <td>1500</td>\n",
       "      <td>10</td>\n",
       "      <td>0.264984</td>\n",
       "      <td>2.547330e+10</td>\n",
       "    </tr>\n",
       "  </tbody>\n",
       "</table>\n",
       "</div>"
      ],
      "text/plain": [
       "    threads  matrix_size  iters  sec_iter        GFLOPS\n",
       "0         1          500     10  0.151724  1.647730e+09\n",
       "1         1         1000     10  1.258990  1.588570e+09\n",
       "2         1         1500     10  7.515200  8.981800e+08\n",
       "3         2          500     10  0.071416  3.500610e+09\n",
       "4         2         1000     10  0.714578  2.798860e+09\n",
       "5         2         1500     10  3.260510  2.070230e+09\n",
       "6         4          500     10  0.034869  7.169760e+09\n",
       "7         4         1000     10  0.302951  6.601730e+09\n",
       "8         4         1500     10  1.460800  4.620760e+09\n",
       "9        16          500     10  0.011308  2.210880e+10\n",
       "10       16         1000     10  0.082343  2.428860e+10\n",
       "11       16         1500     10  0.286162  2.358810e+10\n",
       "12       24          500     10  0.008364  2.988970e+10\n",
       "13       24         1000     10  0.061499  3.252080e+10\n",
       "14       24         1500     10  0.264984  2.547330e+10"
      ]
     },
     "execution_count": 4,
     "metadata": {},
     "output_type": "execute_result"
    }
   ],
   "source": [
    "df_OpenMP_v1"
   ]
  },
  {
   "cell_type": "code",
   "execution_count": 5,
   "id": "a4b53467",
   "metadata": {},
   "outputs": [
    {
     "data": {
      "text/html": [
       "<div>\n",
       "<style scoped>\n",
       "    .dataframe tbody tr th:only-of-type {\n",
       "        vertical-align: middle;\n",
       "    }\n",
       "\n",
       "    .dataframe tbody tr th {\n",
       "        vertical-align: top;\n",
       "    }\n",
       "\n",
       "    .dataframe thead th {\n",
       "        text-align: right;\n",
       "    }\n",
       "</style>\n",
       "<table border=\"1\" class=\"dataframe\">\n",
       "  <thead>\n",
       "    <tr style=\"text-align: right;\">\n",
       "      <th></th>\n",
       "      <th>threads</th>\n",
       "      <th>matrix_size</th>\n",
       "      <th>iters</th>\n",
       "      <th>sec_iter</th>\n",
       "      <th>GFLOPS</th>\n",
       "    </tr>\n",
       "  </thead>\n",
       "  <tbody>\n",
       "    <tr>\n",
       "      <th>0</th>\n",
       "      <td>1</td>\n",
       "      <td>500</td>\n",
       "      <td>10</td>\n",
       "      <td>0.240776</td>\n",
       "      <td>1.038310e+09</td>\n",
       "    </tr>\n",
       "    <tr>\n",
       "      <th>1</th>\n",
       "      <td>1</td>\n",
       "      <td>1000</td>\n",
       "      <td>10</td>\n",
       "      <td>1.642700</td>\n",
       "      <td>1.217510e+09</td>\n",
       "    </tr>\n",
       "    <tr>\n",
       "      <th>2</th>\n",
       "      <td>1</td>\n",
       "      <td>1500</td>\n",
       "      <td>10</td>\n",
       "      <td>8.512440</td>\n",
       "      <td>7.929570e+08</td>\n",
       "    </tr>\n",
       "    <tr>\n",
       "      <th>3</th>\n",
       "      <td>2</td>\n",
       "      <td>500</td>\n",
       "      <td>10</td>\n",
       "      <td>0.133978</td>\n",
       "      <td>1.865980e+09</td>\n",
       "    </tr>\n",
       "    <tr>\n",
       "      <th>4</th>\n",
       "      <td>2</td>\n",
       "      <td>1000</td>\n",
       "      <td>10</td>\n",
       "      <td>1.263220</td>\n",
       "      <td>1.583250e+09</td>\n",
       "    </tr>\n",
       "    <tr>\n",
       "      <th>5</th>\n",
       "      <td>2</td>\n",
       "      <td>1500</td>\n",
       "      <td>10</td>\n",
       "      <td>3.846910</td>\n",
       "      <td>1.754660e+09</td>\n",
       "    </tr>\n",
       "    <tr>\n",
       "      <th>6</th>\n",
       "      <td>4</td>\n",
       "      <td>500</td>\n",
       "      <td>10</td>\n",
       "      <td>0.067047</td>\n",
       "      <td>3.728730e+09</td>\n",
       "    </tr>\n",
       "    <tr>\n",
       "      <th>7</th>\n",
       "      <td>4</td>\n",
       "      <td>1000</td>\n",
       "      <td>10</td>\n",
       "      <td>0.418947</td>\n",
       "      <td>4.773870e+09</td>\n",
       "    </tr>\n",
       "    <tr>\n",
       "      <th>8</th>\n",
       "      <td>4</td>\n",
       "      <td>1500</td>\n",
       "      <td>10</td>\n",
       "      <td>1.684420</td>\n",
       "      <td>4.007310e+09</td>\n",
       "    </tr>\n",
       "    <tr>\n",
       "      <th>9</th>\n",
       "      <td>16</td>\n",
       "      <td>500</td>\n",
       "      <td>10</td>\n",
       "      <td>0.026550</td>\n",
       "      <td>9.416080e+09</td>\n",
       "    </tr>\n",
       "    <tr>\n",
       "      <th>10</th>\n",
       "      <td>16</td>\n",
       "      <td>1000</td>\n",
       "      <td>10</td>\n",
       "      <td>0.129748</td>\n",
       "      <td>1.541450e+10</td>\n",
       "    </tr>\n",
       "    <tr>\n",
       "      <th>11</th>\n",
       "      <td>16</td>\n",
       "      <td>1500</td>\n",
       "      <td>10</td>\n",
       "      <td>0.470029</td>\n",
       "      <td>1.436080e+10</td>\n",
       "    </tr>\n",
       "    <tr>\n",
       "      <th>12</th>\n",
       "      <td>24</td>\n",
       "      <td>500</td>\n",
       "      <td>10</td>\n",
       "      <td>0.030305</td>\n",
       "      <td>8.249340e+09</td>\n",
       "    </tr>\n",
       "    <tr>\n",
       "      <th>13</th>\n",
       "      <td>24</td>\n",
       "      <td>1000</td>\n",
       "      <td>10</td>\n",
       "      <td>0.112066</td>\n",
       "      <td>1.784660e+10</td>\n",
       "    </tr>\n",
       "    <tr>\n",
       "      <th>14</th>\n",
       "      <td>24</td>\n",
       "      <td>1500</td>\n",
       "      <td>10</td>\n",
       "      <td>0.284438</td>\n",
       "      <td>2.373100e+10</td>\n",
       "    </tr>\n",
       "  </tbody>\n",
       "</table>\n",
       "</div>"
      ],
      "text/plain": [
       "    threads  matrix_size  iters  sec_iter        GFLOPS\n",
       "0         1          500     10  0.240776  1.038310e+09\n",
       "1         1         1000     10  1.642700  1.217510e+09\n",
       "2         1         1500     10  8.512440  7.929570e+08\n",
       "3         2          500     10  0.133978  1.865980e+09\n",
       "4         2         1000     10  1.263220  1.583250e+09\n",
       "5         2         1500     10  3.846910  1.754660e+09\n",
       "6         4          500     10  0.067047  3.728730e+09\n",
       "7         4         1000     10  0.418947  4.773870e+09\n",
       "8         4         1500     10  1.684420  4.007310e+09\n",
       "9        16          500     10  0.026550  9.416080e+09\n",
       "10       16         1000     10  0.129748  1.541450e+10\n",
       "11       16         1500     10  0.470029  1.436080e+10\n",
       "12       24          500     10  0.030305  8.249340e+09\n",
       "13       24         1000     10  0.112066  1.784660e+10\n",
       "14       24         1500     10  0.284438  2.373100e+10"
      ]
     },
     "execution_count": 5,
     "metadata": {},
     "output_type": "execute_result"
    }
   ],
   "source": [
    "df_OpenMP_v2"
   ]
  },
  {
   "cell_type": "code",
   "execution_count": 6,
   "id": "305b55a6",
   "metadata": {},
   "outputs": [
    {
     "data": {
      "text/html": [
       "<div>\n",
       "<style scoped>\n",
       "    .dataframe tbody tr th:only-of-type {\n",
       "        vertical-align: middle;\n",
       "    }\n",
       "\n",
       "    .dataframe tbody tr th {\n",
       "        vertical-align: top;\n",
       "    }\n",
       "\n",
       "    .dataframe thead th {\n",
       "        text-align: right;\n",
       "    }\n",
       "</style>\n",
       "<table border=\"1\" class=\"dataframe\">\n",
       "  <thead>\n",
       "    <tr style=\"text-align: right;\">\n",
       "      <th></th>\n",
       "      <th>threads</th>\n",
       "      <th>matrix_size</th>\n",
       "      <th>iters</th>\n",
       "      <th>sec_iter</th>\n",
       "      <th>GFLOPS</th>\n",
       "    </tr>\n",
       "  </thead>\n",
       "  <tbody>\n",
       "    <tr>\n",
       "      <th>0</th>\n",
       "      <td>1</td>\n",
       "      <td>500</td>\n",
       "      <td>10</td>\n",
       "      <td>0.003946</td>\n",
       "      <td>6.335280e+10</td>\n",
       "    </tr>\n",
       "    <tr>\n",
       "      <th>1</th>\n",
       "      <td>1</td>\n",
       "      <td>1000</td>\n",
       "      <td>10</td>\n",
       "      <td>0.026636</td>\n",
       "      <td>7.508720e+10</td>\n",
       "    </tr>\n",
       "    <tr>\n",
       "      <th>2</th>\n",
       "      <td>1</td>\n",
       "      <td>1500</td>\n",
       "      <td>10</td>\n",
       "      <td>0.091247</td>\n",
       "      <td>7.397500e+10</td>\n",
       "    </tr>\n",
       "    <tr>\n",
       "      <th>3</th>\n",
       "      <td>2</td>\n",
       "      <td>500</td>\n",
       "      <td>10</td>\n",
       "      <td>0.001929</td>\n",
       "      <td>1.296330e+11</td>\n",
       "    </tr>\n",
       "    <tr>\n",
       "      <th>4</th>\n",
       "      <td>2</td>\n",
       "      <td>1000</td>\n",
       "      <td>10</td>\n",
       "      <td>0.014620</td>\n",
       "      <td>1.367970e+11</td>\n",
       "    </tr>\n",
       "    <tr>\n",
       "      <th>5</th>\n",
       "      <td>2</td>\n",
       "      <td>1500</td>\n",
       "      <td>10</td>\n",
       "      <td>0.045011</td>\n",
       "      <td>1.499620e+11</td>\n",
       "    </tr>\n",
       "    <tr>\n",
       "      <th>6</th>\n",
       "      <td>4</td>\n",
       "      <td>500</td>\n",
       "      <td>10</td>\n",
       "      <td>0.000878</td>\n",
       "      <td>2.846620e+11</td>\n",
       "    </tr>\n",
       "    <tr>\n",
       "      <th>7</th>\n",
       "      <td>4</td>\n",
       "      <td>1000</td>\n",
       "      <td>10</td>\n",
       "      <td>0.007349</td>\n",
       "      <td>2.721370e+11</td>\n",
       "    </tr>\n",
       "    <tr>\n",
       "      <th>8</th>\n",
       "      <td>4</td>\n",
       "      <td>1500</td>\n",
       "      <td>10</td>\n",
       "      <td>0.018530</td>\n",
       "      <td>3.642770e+11</td>\n",
       "    </tr>\n",
       "    <tr>\n",
       "      <th>9</th>\n",
       "      <td>16</td>\n",
       "      <td>500</td>\n",
       "      <td>10</td>\n",
       "      <td>0.000682</td>\n",
       "      <td>3.663080e+11</td>\n",
       "    </tr>\n",
       "    <tr>\n",
       "      <th>10</th>\n",
       "      <td>16</td>\n",
       "      <td>1000</td>\n",
       "      <td>10</td>\n",
       "      <td>0.004085</td>\n",
       "      <td>4.896160e+11</td>\n",
       "    </tr>\n",
       "    <tr>\n",
       "      <th>11</th>\n",
       "      <td>16</td>\n",
       "      <td>1500</td>\n",
       "      <td>10</td>\n",
       "      <td>0.016882</td>\n",
       "      <td>3.998390e+11</td>\n",
       "    </tr>\n",
       "    <tr>\n",
       "      <th>12</th>\n",
       "      <td>24</td>\n",
       "      <td>500</td>\n",
       "      <td>10</td>\n",
       "      <td>0.000511</td>\n",
       "      <td>4.887830e+11</td>\n",
       "    </tr>\n",
       "    <tr>\n",
       "      <th>13</th>\n",
       "      <td>24</td>\n",
       "      <td>1000</td>\n",
       "      <td>10</td>\n",
       "      <td>0.001944</td>\n",
       "      <td>1.028770e+12</td>\n",
       "    </tr>\n",
       "    <tr>\n",
       "      <th>14</th>\n",
       "      <td>24</td>\n",
       "      <td>1500</td>\n",
       "      <td>10</td>\n",
       "      <td>0.005355</td>\n",
       "      <td>1.260390e+12</td>\n",
       "    </tr>\n",
       "  </tbody>\n",
       "</table>\n",
       "</div>"
      ],
      "text/plain": [
       "    threads  matrix_size  iters  sec_iter        GFLOPS\n",
       "0         1          500     10  0.003946  6.335280e+10\n",
       "1         1         1000     10  0.026636  7.508720e+10\n",
       "2         1         1500     10  0.091247  7.397500e+10\n",
       "3         2          500     10  0.001929  1.296330e+11\n",
       "4         2         1000     10  0.014620  1.367970e+11\n",
       "5         2         1500     10  0.045011  1.499620e+11\n",
       "6         4          500     10  0.000878  2.846620e+11\n",
       "7         4         1000     10  0.007349  2.721370e+11\n",
       "8         4         1500     10  0.018530  3.642770e+11\n",
       "9        16          500     10  0.000682  3.663080e+11\n",
       "10       16         1000     10  0.004085  4.896160e+11\n",
       "11       16         1500     10  0.016882  3.998390e+11\n",
       "12       24          500     10  0.000511  4.887830e+11\n",
       "13       24         1000     10  0.001944  1.028770e+12\n",
       "14       24         1500     10  0.005355  1.260390e+12"
      ]
     },
     "execution_count": 6,
     "metadata": {},
     "output_type": "execute_result"
    }
   ],
   "source": [
    "df_OpenBLAS"
   ]
  },
  {
   "cell_type": "markdown",
   "id": "0d64ae71",
   "metadata": {},
   "source": [
    "# Plots: Threads, sec_iter"
   ]
  },
  {
   "cell_type": "code",
   "execution_count": 7,
   "id": "c6aaaf74",
   "metadata": {},
   "outputs": [
    {
     "data": {
      "text/plain": [
       "<matplotlib.legend.Legend at 0x7fcfd8f8e7c0>"
      ]
     },
     "execution_count": 7,
     "metadata": {},
     "output_type": "execute_result"
    },
    {
     "data": {
      "image/png": "[encoded data removed]",
      "text/plain": [
       "<Figure size 432x288 with 1 Axes>"
      ]
     },
     "metadata": {
      "needs_background": "light"
     },
     "output_type": "display_data"
    }
   ],
   "source": [
    "plt.plot(df_OpenMP_v1[df_OpenMP_v1.matrix_size == 500].threads, \\\n",
    "         df_OpenMP_v1[df_OpenMP_v1.matrix_size == 500].sec_iter, label = 'OpenMP_v1, N = 500')\n",
    "plt.plot(df_OpenMP_v2[df_OpenMP_v1.matrix_size == 500].threads, \\\n",
    "         df_OpenMP_v2[df_OpenMP_v1.matrix_size == 500].sec_iter, label = 'OpenMP_v2, N = 500')\n",
    "plt.plot(df_OpenBLAS[df_OpenMP_v1.matrix_size == 500].threads, \\\n",
    "         df_OpenBLAS[df_OpenMP_v1.matrix_size == 500].sec_iter, label = 'OpenBLAS, N = 500')\n",
    "plt.xlabel('threads')\n",
    "plt.ylabel('sec_iters')\n",
    "plt.grid()\n",
    "plt.legend()"
   ]
  },
  {
   "cell_type": "code",
   "execution_count": 8,
   "id": "050105d7",
   "metadata": {},
   "outputs": [
    {
     "data": {
      "text/plain": [
       "<matplotlib.legend.Legend at 0x7fcfd9a05880>"
      ]
     },
     "execution_count": 8,
     "metadata": {},
     "output_type": "execute_result"
    },
    {
     "data": {
      "image/png": "[encoded data removed]",
      "text/plain": [
       "<Figure size 432x288 with 1 Axes>"
      ]
     },
     "metadata": {
      "needs_background": "light"
     },
     "output_type": "display_data"
    }
   ],
   "source": [
    "plt.plot(df_OpenMP_v1[df_OpenMP_v1.matrix_size == 1000].threads, \\\n",
    "         df_OpenMP_v1[df_OpenMP_v1.matrix_size == 1000].sec_iter, label = 'OpenMP_v1, N = 1000')\n",
    "plt.plot(df_OpenMP_v2[df_OpenMP_v1.matrix_size == 1000].threads, \\\n",
    "         df_OpenMP_v2[df_OpenMP_v1.matrix_size == 1000].sec_iter, label = 'OpenMP_v2, N = 1000')\n",
    "plt.plot(df_OpenBLAS[df_OpenMP_v1.matrix_size == 1000].threads, \\\n",
    "         df_OpenBLAS[df_OpenMP_v1.matrix_size == 1000].sec_iter, label = 'OpenBLAS, N = 1000')\n",
    "plt.xlabel('threads')\n",
    "plt.ylabel('sec_iters')\n",
    "plt.grid()\n",
    "plt.legend()"
   ]
  },
  {
   "cell_type": "code",
   "execution_count": 9,
   "id": "472dfd71",
   "metadata": {},
   "outputs": [
    {
     "data": {
      "text/plain": [
       "<matplotlib.legend.Legend at 0x7fcfd9a638e0>"
      ]
     },
     "execution_count": 9,
     "metadata": {},
     "output_type": "execute_result"
    },
    {
     "data": {
      "image/png": "[encoded data removed]",
      "text/plain": [
       "<Figure size 432x288 with 1 Axes>"
      ]
     },
     "metadata": {
      "needs_background": "light"
     },
     "output_type": "display_data"
    }
   ],
   "source": [
    "plt.plot(df_OpenMP_v1[df_OpenMP_v1.matrix_size == 1500].threads, \\\n",
    "         df_OpenMP_v1[df_OpenMP_v1.matrix_size == 1500].sec_iter, label = 'OpenMP_v1, N = 1500')\n",
    "plt.plot(df_OpenMP_v2[df_OpenMP_v1.matrix_size == 1500].threads, \\\n",
    "         df_OpenMP_v2[df_OpenMP_v1.matrix_size == 1500].sec_iter, label = 'OpenMP_v2, N = 1500')\n",
    "plt.plot(df_OpenBLAS[df_OpenMP_v1.matrix_size == 1500].threads, \\\n",
    "         df_OpenBLAS[df_OpenMP_v1.matrix_size == 1500].sec_iter, label = 'OpenBLAS, N = 1500')\n",
    "plt.xlabel('threads')\n",
    "plt.ylabel('sec_iters')\n",
    "plt.grid()\n",
    "plt.legend()"
   ]
  },
  {
   "cell_type": "markdown",
   "id": "5c124999",
   "metadata": {},
   "source": [
    "# Plots: Threads, GFLOPS"
   ]
  },
  {
   "cell_type": "code",
   "execution_count": 10,
   "id": "f9fcbfd2",
   "metadata": {},
   "outputs": [
    {
     "data": {
      "text/plain": [
       "<matplotlib.legend.Legend at 0x7fcfd9b7dd00>"
      ]
     },
     "execution_count": 10,
     "metadata": {},
     "output_type": "execute_result"
    },
    {
     "data": {
      "image/png": "[encoded data removed]",
      "text/plain": [
       "<Figure size 432x288 with 1 Axes>"
      ]
     },
     "metadata": {
      "needs_background": "light"
     },
     "output_type": "display_data"
    }
   ],
   "source": [
    "plt.plot(df_OpenMP_v1[df_OpenMP_v1.matrix_size == 500].threads, \\\n",
    "         df_OpenMP_v1[df_OpenMP_v1.matrix_size == 500].GFLOPS, label = 'OpenMP_v1, N = 500')\n",
    "plt.plot(df_OpenMP_v2[df_OpenMP_v1.matrix_size == 500].threads, \\\n",
    "         df_OpenMP_v2[df_OpenMP_v1.matrix_size == 500].GFLOPS, label = 'OpenMP_v2, N = 500')\n",
    "plt.plot(df_OpenBLAS[df_OpenMP_v1.matrix_size == 500].threads, \\\n",
    "         df_OpenBLAS[df_OpenMP_v1.matrix_size == 500].GFLOPS, label = 'OpenBLAS, N = 500')\n",
    "plt.xlabel('threads')\n",
    "plt.ylabel('GFLOPS')\n",
    "plt.grid()\n",
    "plt.legend()"
   ]
  },
  {
   "cell_type": "code",
   "execution_count": 11,
   "id": "c4cdeb06",
   "metadata": {},
   "outputs": [
    {
     "data": {
      "text/plain": [
       "<matplotlib.legend.Legend at 0x7fcfd9c999d0>"
      ]
     },
     "execution_count": 11,
     "metadata": {},
     "output_type": "execute_result"
    },
    {
     "data": {
      "image/png": "[encoded data removed]",
      "text/plain": [
       "<Figure size 432x288 with 1 Axes>"
      ]
     },
     "metadata": {
      "needs_background": "light"
     },
     "output_type": "display_data"
    }
   ],
   "source": [
    "plt.plot(df_OpenMP_v1[df_OpenMP_v1.matrix_size == 1000].threads, \\\n",
    "         df_OpenMP_v1[df_OpenMP_v1.matrix_size == 1000].GFLOPS, label = 'OpenMP_v1, N = 1000')\n",
    "plt.plot(df_OpenMP_v2[df_OpenMP_v1.matrix_size == 1000].threads, \\\n",
    "         df_OpenMP_v2[df_OpenMP_v1.matrix_size == 1000].GFLOPS, label = 'OpenMP_v2, N = 1000')\n",
    "plt.plot(df_OpenBLAS[df_OpenMP_v1.matrix_size == 1000].threads, \\\n",
    "         df_OpenBLAS[df_OpenMP_v1.matrix_size == 1000].GFLOPS, label = 'OpenBLAS, N = 1000')\n",
    "plt.xlabel('threads')\n",
    "plt.ylabel('GFLOPS')\n",
    "plt.grid()\n",
    "plt.legend()"
   ]
  },
  {
   "cell_type": "code",
   "execution_count": 12,
   "id": "e7c9f666",
   "metadata": {},
   "outputs": [
    {
     "data": {
      "text/plain": [
       "<matplotlib.legend.Legend at 0x7fcfd9db5f10>"
      ]
     },
     "execution_count": 12,
     "metadata": {},
     "output_type": "execute_result"
    },
    {
     "data": {
      "image/png": "[encoded data removed]",
      "text/plain": [
       "<Figure size 432x288 with 1 Axes>"
      ]
     },
     "metadata": {
      "needs_background": "light"
     },
     "output_type": "display_data"
    }
   ],
   "source": [
    "plt.plot(df_OpenMP_v1[df_OpenMP_v1.matrix_size == 1500].threads, \\\n",
    "         df_OpenMP_v1[df_OpenMP_v1.matrix_size == 1500].GFLOPS, label = 'OpenMP_v1, N = 1500')\n",
    "plt.plot(df_OpenMP_v2[df_OpenMP_v1.matrix_size == 1500].threads, \\\n",
    "         df_OpenMP_v2[df_OpenMP_v1.matrix_size == 1500].GFLOPS, label = 'OpenMP_v2, N = 1500')\n",
    "plt.plot(df_OpenBLAS[df_OpenMP_v1.matrix_size == 1500].threads, \\\n",
    "         df_OpenBLAS[df_OpenMP_v1.matrix_size == 1500].GFLOPS, label = 'OpenBLAS, N = 1500')\n",
    "plt.xlabel('threads')\n",
    "plt.ylabel('GFLOPS')\n",
    "plt.grid()\n",
    "plt.legend()"
   ]
  }
 ],
 "metadata": {
  "kernelspec": {
   "display_name": "Python 3 (ipykernel)",
   "language": "python",
   "name": "python3"
  },
  "language_info": {
   "codemirror_mode": {
    "name": "ipython",
    "version": 3
   },
   "file_extension": ".py",
   "mimetype": "text/x-python",
   "name": "python",
   "nbconvert_exporter": "python",
   "pygments_lexer": "ipython3",
   "version": "3.9.7"
  }
 },
 "nbformat": 4,
 "nbformat_minor": 5
}
